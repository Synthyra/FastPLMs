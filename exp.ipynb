{
 "cells": [
  {
   "cell_type": "code",
   "execution_count": 1,
   "metadata": {},
   "outputs": [],
   "source": [
    "from modeling_esm_plusplus import ESMplusplusForSequenceClassification"
   ]
  },
  {
   "cell_type": "code",
   "execution_count": 2,
   "metadata": {},
   "outputs": [
    {
     "name": "stderr",
     "output_type": "stream",
     "text": [
      "Some weights of ESMplusplusForSequenceClassification were not initialized from the model checkpoint at Synthyra/ESMplusplus_large and are newly initialized: ['classifier.0.bias', 'classifier.0.weight', 'classifier.2.bias', 'classifier.2.weight', 'classifier.3.bias', 'classifier.3.weight']\n",
      "You should probably TRAIN this model on a down-stream task to be able to use it for predictions and inference.\n"
     ]
    },
    {
     "data": {
      "text/plain": [
       "ESMplusplusForSequenceClassification(\n",
       "  (embed): Embedding(64, 1152)\n",
       "  (transformer): TransformerStack(\n",
       "    (blocks): ModuleList(\n",
       "      (0-35): 36 x UnifiedTransformerBlock(\n",
       "        (attn): MultiHeadAttention(\n",
       "          (layernorm_qkv): Sequential(\n",
       "            (0): LayerNorm((1152,), eps=1e-05, elementwise_affine=True)\n",
       "            (1): Linear(in_features=1152, out_features=3456, bias=False)\n",
       "          )\n",
       "          (out_proj): Linear(in_features=1152, out_features=1152, bias=False)\n",
       "          (q_ln): LayerNorm((1152,), eps=1e-05, elementwise_affine=True)\n",
       "          (k_ln): LayerNorm((1152,), eps=1e-05, elementwise_affine=True)\n",
       "          (rotary): RotaryEmbedding()\n",
       "        )\n",
       "        (ffn): Sequential(\n",
       "          (0): LayerNorm((1152,), eps=1e-05, elementwise_affine=True)\n",
       "          (1): Linear(in_features=1152, out_features=6144, bias=False)\n",
       "          (2): SwiGLU()\n",
       "          (3): Linear(in_features=3072, out_features=1152, bias=False)\n",
       "        )\n",
       "        (dropout): Dropout(p=0.0, inplace=False)\n",
       "      )\n",
       "    )\n",
       "    (norm): LayerNorm((1152,), eps=1e-05, elementwise_affine=True)\n",
       "  )\n",
       "  (sequence_head): Sequential(\n",
       "    (0): Linear(in_features=1152, out_features=1152, bias=True)\n",
       "    (1): GELU(approximate='none')\n",
       "    (2): LayerNorm((1152,), eps=1e-05, elementwise_affine=True)\n",
       "    (3): Linear(in_features=1152, out_features=64, bias=True)\n",
       "  )\n",
       "  (ce_loss): CrossEntropyLoss()\n",
       "  (classifier): Sequential(\n",
       "    (0): Linear(in_features=2304, out_features=4608, bias=True)\n",
       "    (1): GELU(approximate='none')\n",
       "    (2): LayerNorm((4608,), eps=1e-05, elementwise_affine=True)\n",
       "    (3): Linear(in_features=4608, out_features=3, bias=True)\n",
       "  )\n",
       "  (mse): MSELoss()\n",
       "  (ce): CrossEntropyLoss()\n",
       "  (bce): BCEWithLogitsLoss()\n",
       ")"
      ]
     },
     "execution_count": 2,
     "metadata": {},
     "output_type": "execute_result"
    }
   ],
   "source": [
    "model = ESMplusplusForSequenceClassification.from_pretrained('Synthyra/ESMplusplus_large', num_labels=3)\n",
    "model"
   ]
  },
  {
   "cell_type": "code",
   "execution_count": null,
   "metadata": {},
   "outputs": [],
   "source": []
  }
 ],
 "metadata": {
  "kernelspec": {
   "display_name": "Python 3",
   "language": "python",
   "name": "python3"
  },
  "language_info": {
   "codemirror_mode": {
    "name": "ipython",
    "version": 3
   },
   "file_extension": ".py",
   "mimetype": "text/x-python",
   "name": "python",
   "nbconvert_exporter": "python",
   "pygments_lexer": "ipython3",
   "version": "3.11.8"
  }
 },
 "nbformat": 4,
 "nbformat_minor": 2
}
